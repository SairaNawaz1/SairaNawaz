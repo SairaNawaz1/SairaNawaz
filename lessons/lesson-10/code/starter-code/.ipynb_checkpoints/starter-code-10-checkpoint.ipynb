{
 "cells": [
  {
   "cell_type": "markdown",
   "metadata": {},
   "source": [
    "### Cost Benefit Questions\n",
    "\n",
    "1. How would you rephrase the business problem if your model was optimizing toward _precision_? i.e., How might the model behave differently, and what effect would it have?\n",
    "Ans: This is balanced information to compare false and true positives, which penalizes for false negatives.\n",
    "2. How would you rephrase the business problem if your model was optimizing toward _recall_?\n",
    "Ans: This maximizes for true positives or to get the positives\n",
    "3. What would the most ideal model look like in this case?\n",
    "Accuracy can throw you off for rare occurences"
   ]
  },
  {
   "cell_type": "markdown",
   "metadata": {},
   "source": [
    "### Visualizing models over variables"
   ]
  },
  {
   "cell_type": "code",
   "execution_count": 14,
   "metadata": {
    "collapsed": true
   },
   "outputs": [],
   "source": [
    "%matplotlib inline"
   ]
  },
  {
   "cell_type": "code",
   "execution_count": 15,
   "metadata": {
    "collapsed": false
   },
   "outputs": [],
   "source": [
    "import pandas as pd\n",
    "import sklearn.linear_model as lm\n",
    "import matplotlib.pyplot as plt\n",
    "import seaborn as sns\n",
    "\n",
    "df = pd.read_csv('../../assets/dataset/flight_delays.csv')\n",
    "df = df.loc[df.DEP_DEL15.notnull()].copy()\n",
    "#df.loc corrects, DEP_DEL15 not null"
   ]
  },
  {
   "cell_type": "code",
   "execution_count": 16,
   "metadata": {
    "collapsed": false
   },
   "outputs": [
    {
     "data": {
      "text/plain": [
       "DAY_OF_MONTH               int64\n",
       "DAY_OF_WEEK                int64\n",
       "FL_DATE                   object\n",
       "UNIQUE_CARRIER            object\n",
       "AIRLINE_ID                 int64\n",
       "CARRIER                   object\n",
       "ORIGIN_AIRPORT_ID          int64\n",
       "ORIGIN_AIRPORT_SEQ_ID      int64\n",
       "ORIGIN_CITY_MARKET_ID      int64\n",
       "DEST_AIRPORT_ID            int64\n",
       "DEST_AIRPORT_SEQ_ID        int64\n",
       "DEST_CITY_MARKET_ID        int64\n",
       "CRS_DEP_TIME               int64\n",
       "DEP_TIME                 float64\n",
       "DEP_DEL15                float64\n",
       "Unnamed: 15              float64\n",
       "dtype: object"
      ]
     },
     "execution_count": 16,
     "metadata": {},
     "output_type": "execute_result"
    }
   ],
   "source": [
    "df.dtypes"
   ]
  },
  {
   "cell_type": "code",
   "execution_count": 3,
   "metadata": {
    "collapsed": false
   },
   "outputs": [
    {
     "data": {
      "text/html": [
       "<div style=\"max-height:1000px;max-width:1500px;overflow:auto;\">\n",
       "<table border=\"1\" class=\"dataframe\">\n",
       "  <thead>\n",
       "    <tr style=\"text-align: right;\">\n",
       "      <th></th>\n",
       "      <th>DAY_OF_MONTH</th>\n",
       "      <th>DAY_OF_WEEK</th>\n",
       "      <th>FL_DATE</th>\n",
       "      <th>UNIQUE_CARRIER</th>\n",
       "      <th>AIRLINE_ID</th>\n",
       "      <th>CARRIER</th>\n",
       "      <th>ORIGIN_AIRPORT_ID</th>\n",
       "      <th>ORIGIN_AIRPORT_SEQ_ID</th>\n",
       "      <th>ORIGIN_CITY_MARKET_ID</th>\n",
       "      <th>DEST_AIRPORT_ID</th>\n",
       "      <th>DEST_AIRPORT_SEQ_ID</th>\n",
       "      <th>DEST_CITY_MARKET_ID</th>\n",
       "      <th>CRS_DEP_TIME</th>\n",
       "      <th>DEP_TIME</th>\n",
       "      <th>DEP_DEL15</th>\n",
       "      <th>Unnamed: 15</th>\n",
       "    </tr>\n",
       "  </thead>\n",
       "  <tbody>\n",
       "    <tr>\n",
       "      <th>0</th>\n",
       "      <td>1</td>\n",
       "      <td>4</td>\n",
       "      <td>2015-01-01</td>\n",
       "      <td>AA</td>\n",
       "      <td>19805</td>\n",
       "      <td>AA</td>\n",
       "      <td>12478</td>\n",
       "      <td>1247802</td>\n",
       "      <td>31703</td>\n",
       "      <td>12892</td>\n",
       "      <td>1289203</td>\n",
       "      <td>32575</td>\n",
       "      <td>900</td>\n",
       "      <td>855</td>\n",
       "      <td>0</td>\n",
       "      <td>NaN</td>\n",
       "    </tr>\n",
       "    <tr>\n",
       "      <th>1</th>\n",
       "      <td>1</td>\n",
       "      <td>4</td>\n",
       "      <td>2015-01-01</td>\n",
       "      <td>AA</td>\n",
       "      <td>19805</td>\n",
       "      <td>AA</td>\n",
       "      <td>12892</td>\n",
       "      <td>1289203</td>\n",
       "      <td>32575</td>\n",
       "      <td>12478</td>\n",
       "      <td>1247802</td>\n",
       "      <td>31703</td>\n",
       "      <td>900</td>\n",
       "      <td>856</td>\n",
       "      <td>0</td>\n",
       "      <td>NaN</td>\n",
       "    </tr>\n",
       "    <tr>\n",
       "      <th>2</th>\n",
       "      <td>1</td>\n",
       "      <td>4</td>\n",
       "      <td>2015-01-01</td>\n",
       "      <td>AA</td>\n",
       "      <td>19805</td>\n",
       "      <td>AA</td>\n",
       "      <td>12478</td>\n",
       "      <td>1247802</td>\n",
       "      <td>31703</td>\n",
       "      <td>12892</td>\n",
       "      <td>1289203</td>\n",
       "      <td>32575</td>\n",
       "      <td>1230</td>\n",
       "      <td>1226</td>\n",
       "      <td>0</td>\n",
       "      <td>NaN</td>\n",
       "    </tr>\n",
       "    <tr>\n",
       "      <th>3</th>\n",
       "      <td>1</td>\n",
       "      <td>4</td>\n",
       "      <td>2015-01-01</td>\n",
       "      <td>AA</td>\n",
       "      <td>19805</td>\n",
       "      <td>AA</td>\n",
       "      <td>12892</td>\n",
       "      <td>1289203</td>\n",
       "      <td>32575</td>\n",
       "      <td>12478</td>\n",
       "      <td>1247802</td>\n",
       "      <td>31703</td>\n",
       "      <td>1220</td>\n",
       "      <td>1214</td>\n",
       "      <td>0</td>\n",
       "      <td>NaN</td>\n",
       "    </tr>\n",
       "    <tr>\n",
       "      <th>4</th>\n",
       "      <td>1</td>\n",
       "      <td>4</td>\n",
       "      <td>2015-01-01</td>\n",
       "      <td>AA</td>\n",
       "      <td>19805</td>\n",
       "      <td>AA</td>\n",
       "      <td>11298</td>\n",
       "      <td>1129803</td>\n",
       "      <td>30194</td>\n",
       "      <td>12173</td>\n",
       "      <td>1217302</td>\n",
       "      <td>32134</td>\n",
       "      <td>1305</td>\n",
       "      <td>1754</td>\n",
       "      <td>1</td>\n",
       "      <td>NaN</td>\n",
       "    </tr>\n",
       "  </tbody>\n",
       "</table>\n",
       "</div>"
      ],
      "text/plain": [
       "   DAY_OF_MONTH  DAY_OF_WEEK     FL_DATE UNIQUE_CARRIER  AIRLINE_ID CARRIER  \\\n",
       "0             1            4  2015-01-01             AA       19805      AA   \n",
       "1             1            4  2015-01-01             AA       19805      AA   \n",
       "2             1            4  2015-01-01             AA       19805      AA   \n",
       "3             1            4  2015-01-01             AA       19805      AA   \n",
       "4             1            4  2015-01-01             AA       19805      AA   \n",
       "\n",
       "   ORIGIN_AIRPORT_ID  ORIGIN_AIRPORT_SEQ_ID  ORIGIN_CITY_MARKET_ID  \\\n",
       "0              12478                1247802                  31703   \n",
       "1              12892                1289203                  32575   \n",
       "2              12478                1247802                  31703   \n",
       "3              12892                1289203                  32575   \n",
       "4              11298                1129803                  30194   \n",
       "\n",
       "   DEST_AIRPORT_ID  DEST_AIRPORT_SEQ_ID  DEST_CITY_MARKET_ID  CRS_DEP_TIME  \\\n",
       "0            12892              1289203                32575           900   \n",
       "1            12478              1247802                31703           900   \n",
       "2            12892              1289203                32575          1230   \n",
       "3            12478              1247802                31703          1220   \n",
       "4            12173              1217302                32134          1305   \n",
       "\n",
       "   DEP_TIME  DEP_DEL15  Unnamed: 15  \n",
       "0       855          0          NaN  \n",
       "1       856          0          NaN  \n",
       "2      1226          0          NaN  \n",
       "3      1214          0          NaN  \n",
       "4      1754          1          NaN  "
      ]
     },
     "execution_count": 3,
     "metadata": {},
     "output_type": "execute_result"
    }
   ],
   "source": [
    "df.head()"
   ]
  },
  {
   "cell_type": "code",
   "execution_count": 25,
   "metadata": {
    "collapsed": false
   },
   "outputs": [
    {
     "data": {
      "text/html": [
       "<div>\n",
       "<table border=\"1\" class=\"dataframe\">\n",
       "  <thead>\n",
       "    <tr style=\"text-align: right;\">\n",
       "      <th></th>\n",
       "      <th>DAY_OF_MONTH</th>\n",
       "      <th>DAY_OF_WEEK</th>\n",
       "      <th>FL_DATE</th>\n",
       "      <th>AIRLINE_ID</th>\n",
       "      <th>CARRIER</th>\n",
       "      <th>ORIGIN_AIRPORT_ID</th>\n",
       "      <th>ORIGIN_AIRPORT_SEQ_ID</th>\n",
       "      <th>ORIGIN_CITY_MARKET_ID</th>\n",
       "      <th>DEST_AIRPORT_ID</th>\n",
       "      <th>DEST_AIRPORT_SEQ_ID</th>\n",
       "      <th>...</th>\n",
       "      <th>carrier_VX</th>\n",
       "      <th>carrier_WN</th>\n",
       "      <th>dow_1</th>\n",
       "      <th>dow_2</th>\n",
       "      <th>dow_3</th>\n",
       "      <th>dow_4</th>\n",
       "      <th>dow_5</th>\n",
       "      <th>dow_6</th>\n",
       "      <th>dow_7</th>\n",
       "      <th>probability</th>\n",
       "    </tr>\n",
       "    <tr>\n",
       "      <th>UNIQUE_CARRIER</th>\n",
       "      <th></th>\n",
       "      <th></th>\n",
       "      <th></th>\n",
       "      <th></th>\n",
       "      <th></th>\n",
       "      <th></th>\n",
       "      <th></th>\n",
       "      <th></th>\n",
       "      <th></th>\n",
       "      <th></th>\n",
       "      <th></th>\n",
       "      <th></th>\n",
       "      <th></th>\n",
       "      <th></th>\n",
       "      <th></th>\n",
       "      <th></th>\n",
       "      <th></th>\n",
       "      <th></th>\n",
       "      <th></th>\n",
       "      <th></th>\n",
       "      <th></th>\n",
       "    </tr>\n",
       "  </thead>\n",
       "  <tbody>\n",
       "    <tr>\n",
       "      <th>AA</th>\n",
       "      <td>43173</td>\n",
       "      <td>43173</td>\n",
       "      <td>43173</td>\n",
       "      <td>43173</td>\n",
       "      <td>43173</td>\n",
       "      <td>43173</td>\n",
       "      <td>43173</td>\n",
       "      <td>43173</td>\n",
       "      <td>43173</td>\n",
       "      <td>43173</td>\n",
       "      <td>...</td>\n",
       "      <td>43173</td>\n",
       "      <td>43173</td>\n",
       "      <td>43173</td>\n",
       "      <td>43173</td>\n",
       "      <td>43173</td>\n",
       "      <td>43173</td>\n",
       "      <td>43173</td>\n",
       "      <td>43173</td>\n",
       "      <td>43173</td>\n",
       "      <td>43173</td>\n",
       "    </tr>\n",
       "    <tr>\n",
       "      <th>AS</th>\n",
       "      <td>13198</td>\n",
       "      <td>13198</td>\n",
       "      <td>13198</td>\n",
       "      <td>13198</td>\n",
       "      <td>13198</td>\n",
       "      <td>13198</td>\n",
       "      <td>13198</td>\n",
       "      <td>13198</td>\n",
       "      <td>13198</td>\n",
       "      <td>13198</td>\n",
       "      <td>...</td>\n",
       "      <td>13198</td>\n",
       "      <td>13198</td>\n",
       "      <td>13198</td>\n",
       "      <td>13198</td>\n",
       "      <td>13198</td>\n",
       "      <td>13198</td>\n",
       "      <td>13198</td>\n",
       "      <td>13198</td>\n",
       "      <td>13198</td>\n",
       "      <td>13198</td>\n",
       "    </tr>\n",
       "    <tr>\n",
       "      <th>B6</th>\n",
       "      <td>20531</td>\n",
       "      <td>20531</td>\n",
       "      <td>20531</td>\n",
       "      <td>20531</td>\n",
       "      <td>20531</td>\n",
       "      <td>20531</td>\n",
       "      <td>20531</td>\n",
       "      <td>20531</td>\n",
       "      <td>20531</td>\n",
       "      <td>20531</td>\n",
       "      <td>...</td>\n",
       "      <td>20531</td>\n",
       "      <td>20531</td>\n",
       "      <td>20531</td>\n",
       "      <td>20531</td>\n",
       "      <td>20531</td>\n",
       "      <td>20531</td>\n",
       "      <td>20531</td>\n",
       "      <td>20531</td>\n",
       "      <td>20531</td>\n",
       "      <td>20531</td>\n",
       "    </tr>\n",
       "    <tr>\n",
       "      <th>DL</th>\n",
       "      <td>63752</td>\n",
       "      <td>63752</td>\n",
       "      <td>63752</td>\n",
       "      <td>63752</td>\n",
       "      <td>63752</td>\n",
       "      <td>63752</td>\n",
       "      <td>63752</td>\n",
       "      <td>63752</td>\n",
       "      <td>63752</td>\n",
       "      <td>63752</td>\n",
       "      <td>...</td>\n",
       "      <td>63752</td>\n",
       "      <td>63752</td>\n",
       "      <td>63752</td>\n",
       "      <td>63752</td>\n",
       "      <td>63752</td>\n",
       "      <td>63752</td>\n",
       "      <td>63752</td>\n",
       "      <td>63752</td>\n",
       "      <td>63752</td>\n",
       "      <td>63752</td>\n",
       "    </tr>\n",
       "    <tr>\n",
       "      <th>EV</th>\n",
       "      <td>48267</td>\n",
       "      <td>48267</td>\n",
       "      <td>48267</td>\n",
       "      <td>48267</td>\n",
       "      <td>48267</td>\n",
       "      <td>48267</td>\n",
       "      <td>48267</td>\n",
       "      <td>48267</td>\n",
       "      <td>48267</td>\n",
       "      <td>48267</td>\n",
       "      <td>...</td>\n",
       "      <td>48267</td>\n",
       "      <td>48267</td>\n",
       "      <td>48267</td>\n",
       "      <td>48267</td>\n",
       "      <td>48267</td>\n",
       "      <td>48267</td>\n",
       "      <td>48267</td>\n",
       "      <td>48267</td>\n",
       "      <td>48267</td>\n",
       "      <td>48267</td>\n",
       "    </tr>\n",
       "    <tr>\n",
       "      <th>F9</th>\n",
       "      <td>6745</td>\n",
       "      <td>6745</td>\n",
       "      <td>6745</td>\n",
       "      <td>6745</td>\n",
       "      <td>6745</td>\n",
       "      <td>6745</td>\n",
       "      <td>6745</td>\n",
       "      <td>6745</td>\n",
       "      <td>6745</td>\n",
       "      <td>6745</td>\n",
       "      <td>...</td>\n",
       "      <td>6745</td>\n",
       "      <td>6745</td>\n",
       "      <td>6745</td>\n",
       "      <td>6745</td>\n",
       "      <td>6745</td>\n",
       "      <td>6745</td>\n",
       "      <td>6745</td>\n",
       "      <td>6745</td>\n",
       "      <td>6745</td>\n",
       "      <td>6745</td>\n",
       "    </tr>\n",
       "    <tr>\n",
       "      <th>HA</th>\n",
       "      <td>6418</td>\n",
       "      <td>6418</td>\n",
       "      <td>6418</td>\n",
       "      <td>6418</td>\n",
       "      <td>6418</td>\n",
       "      <td>6418</td>\n",
       "      <td>6418</td>\n",
       "      <td>6418</td>\n",
       "      <td>6418</td>\n",
       "      <td>6418</td>\n",
       "      <td>...</td>\n",
       "      <td>6418</td>\n",
       "      <td>6418</td>\n",
       "      <td>6418</td>\n",
       "      <td>6418</td>\n",
       "      <td>6418</td>\n",
       "      <td>6418</td>\n",
       "      <td>6418</td>\n",
       "      <td>6418</td>\n",
       "      <td>6418</td>\n",
       "      <td>6418</td>\n",
       "    </tr>\n",
       "    <tr>\n",
       "      <th>MQ</th>\n",
       "      <td>27670</td>\n",
       "      <td>27670</td>\n",
       "      <td>27670</td>\n",
       "      <td>27670</td>\n",
       "      <td>27670</td>\n",
       "      <td>27670</td>\n",
       "      <td>27670</td>\n",
       "      <td>27670</td>\n",
       "      <td>27670</td>\n",
       "      <td>27670</td>\n",
       "      <td>...</td>\n",
       "      <td>27670</td>\n",
       "      <td>27670</td>\n",
       "      <td>27670</td>\n",
       "      <td>27670</td>\n",
       "      <td>27670</td>\n",
       "      <td>27670</td>\n",
       "      <td>27670</td>\n",
       "      <td>27670</td>\n",
       "      <td>27670</td>\n",
       "      <td>27670</td>\n",
       "    </tr>\n",
       "    <tr>\n",
       "      <th>NK</th>\n",
       "      <td>8647</td>\n",
       "      <td>8647</td>\n",
       "      <td>8647</td>\n",
       "      <td>8647</td>\n",
       "      <td>8647</td>\n",
       "      <td>8647</td>\n",
       "      <td>8647</td>\n",
       "      <td>8647</td>\n",
       "      <td>8647</td>\n",
       "      <td>8647</td>\n",
       "      <td>...</td>\n",
       "      <td>8647</td>\n",
       "      <td>8647</td>\n",
       "      <td>8647</td>\n",
       "      <td>8647</td>\n",
       "      <td>8647</td>\n",
       "      <td>8647</td>\n",
       "      <td>8647</td>\n",
       "      <td>8647</td>\n",
       "      <td>8647</td>\n",
       "      <td>8647</td>\n",
       "    </tr>\n",
       "    <tr>\n",
       "      <th>OO</th>\n",
       "      <td>46946</td>\n",
       "      <td>46946</td>\n",
       "      <td>46946</td>\n",
       "      <td>46946</td>\n",
       "      <td>46946</td>\n",
       "      <td>46946</td>\n",
       "      <td>46946</td>\n",
       "      <td>46946</td>\n",
       "      <td>46946</td>\n",
       "      <td>46946</td>\n",
       "      <td>...</td>\n",
       "      <td>46946</td>\n",
       "      <td>46946</td>\n",
       "      <td>46946</td>\n",
       "      <td>46946</td>\n",
       "      <td>46946</td>\n",
       "      <td>46946</td>\n",
       "      <td>46946</td>\n",
       "      <td>46946</td>\n",
       "      <td>46946</td>\n",
       "      <td>46946</td>\n",
       "    </tr>\n",
       "    <tr>\n",
       "      <th>UA</th>\n",
       "      <td>37454</td>\n",
       "      <td>37454</td>\n",
       "      <td>37454</td>\n",
       "      <td>37454</td>\n",
       "      <td>37454</td>\n",
       "      <td>37454</td>\n",
       "      <td>37454</td>\n",
       "      <td>37454</td>\n",
       "      <td>37454</td>\n",
       "      <td>37454</td>\n",
       "      <td>...</td>\n",
       "      <td>37454</td>\n",
       "      <td>37454</td>\n",
       "      <td>37454</td>\n",
       "      <td>37454</td>\n",
       "      <td>37454</td>\n",
       "      <td>37454</td>\n",
       "      <td>37454</td>\n",
       "      <td>37454</td>\n",
       "      <td>37454</td>\n",
       "      <td>37454</td>\n",
       "    </tr>\n",
       "    <tr>\n",
       "      <th>US</th>\n",
       "      <td>32552</td>\n",
       "      <td>32552</td>\n",
       "      <td>32552</td>\n",
       "      <td>32552</td>\n",
       "      <td>32552</td>\n",
       "      <td>32552</td>\n",
       "      <td>32552</td>\n",
       "      <td>32552</td>\n",
       "      <td>32552</td>\n",
       "      <td>32552</td>\n",
       "      <td>...</td>\n",
       "      <td>32552</td>\n",
       "      <td>32552</td>\n",
       "      <td>32552</td>\n",
       "      <td>32552</td>\n",
       "      <td>32552</td>\n",
       "      <td>32552</td>\n",
       "      <td>32552</td>\n",
       "      <td>32552</td>\n",
       "      <td>32552</td>\n",
       "      <td>32552</td>\n",
       "    </tr>\n",
       "    <tr>\n",
       "      <th>VX</th>\n",
       "      <td>4651</td>\n",
       "      <td>4651</td>\n",
       "      <td>4651</td>\n",
       "      <td>4651</td>\n",
       "      <td>4651</td>\n",
       "      <td>4651</td>\n",
       "      <td>4651</td>\n",
       "      <td>4651</td>\n",
       "      <td>4651</td>\n",
       "      <td>4651</td>\n",
       "      <td>...</td>\n",
       "      <td>4651</td>\n",
       "      <td>4651</td>\n",
       "      <td>4651</td>\n",
       "      <td>4651</td>\n",
       "      <td>4651</td>\n",
       "      <td>4651</td>\n",
       "      <td>4651</td>\n",
       "      <td>4651</td>\n",
       "      <td>4651</td>\n",
       "      <td>4651</td>\n",
       "    </tr>\n",
       "    <tr>\n",
       "      <th>WN</th>\n",
       "      <td>98307</td>\n",
       "      <td>98307</td>\n",
       "      <td>98307</td>\n",
       "      <td>98307</td>\n",
       "      <td>98307</td>\n",
       "      <td>98307</td>\n",
       "      <td>98307</td>\n",
       "      <td>98307</td>\n",
       "      <td>98307</td>\n",
       "      <td>98307</td>\n",
       "      <td>...</td>\n",
       "      <td>98307</td>\n",
       "      <td>98307</td>\n",
       "      <td>98307</td>\n",
       "      <td>98307</td>\n",
       "      <td>98307</td>\n",
       "      <td>98307</td>\n",
       "      <td>98307</td>\n",
       "      <td>98307</td>\n",
       "      <td>98307</td>\n",
       "      <td>98307</td>\n",
       "    </tr>\n",
       "  </tbody>\n",
       "</table>\n",
       "<p>14 rows × 37 columns</p>\n",
       "</div>"
      ],
      "text/plain": [
       "                DAY_OF_MONTH  DAY_OF_WEEK  FL_DATE  AIRLINE_ID  CARRIER  \\\n",
       "UNIQUE_CARRIER                                                            \n",
       "AA                     43173        43173    43173       43173    43173   \n",
       "AS                     13198        13198    13198       13198    13198   \n",
       "B6                     20531        20531    20531       20531    20531   \n",
       "DL                     63752        63752    63752       63752    63752   \n",
       "EV                     48267        48267    48267       48267    48267   \n",
       "F9                      6745         6745     6745        6745     6745   \n",
       "HA                      6418         6418     6418        6418     6418   \n",
       "MQ                     27670        27670    27670       27670    27670   \n",
       "NK                      8647         8647     8647        8647     8647   \n",
       "OO                     46946        46946    46946       46946    46946   \n",
       "UA                     37454        37454    37454       37454    37454   \n",
       "US                     32552        32552    32552       32552    32552   \n",
       "VX                      4651         4651     4651        4651     4651   \n",
       "WN                     98307        98307    98307       98307    98307   \n",
       "\n",
       "                ORIGIN_AIRPORT_ID  ORIGIN_AIRPORT_SEQ_ID  \\\n",
       "UNIQUE_CARRIER                                             \n",
       "AA                          43173                  43173   \n",
       "AS                          13198                  13198   \n",
       "B6                          20531                  20531   \n",
       "DL                          63752                  63752   \n",
       "EV                          48267                  48267   \n",
       "F9                           6745                   6745   \n",
       "HA                           6418                   6418   \n",
       "MQ                          27670                  27670   \n",
       "NK                           8647                   8647   \n",
       "OO                          46946                  46946   \n",
       "UA                          37454                  37454   \n",
       "US                          32552                  32552   \n",
       "VX                           4651                   4651   \n",
       "WN                          98307                  98307   \n",
       "\n",
       "                ORIGIN_CITY_MARKET_ID  DEST_AIRPORT_ID  DEST_AIRPORT_SEQ_ID  \\\n",
       "UNIQUE_CARRIER                                                                \n",
       "AA                              43173            43173                43173   \n",
       "AS                              13198            13198                13198   \n",
       "B6                              20531            20531                20531   \n",
       "DL                              63752            63752                63752   \n",
       "EV                              48267            48267                48267   \n",
       "F9                               6745             6745                 6745   \n",
       "HA                               6418             6418                 6418   \n",
       "MQ                              27670            27670                27670   \n",
       "NK                               8647             8647                 8647   \n",
       "OO                              46946            46946                46946   \n",
       "UA                              37454            37454                37454   \n",
       "US                              32552            32552                32552   \n",
       "VX                               4651             4651                 4651   \n",
       "WN                              98307            98307                98307   \n",
       "\n",
       "                   ...       carrier_VX  carrier_WN  dow_1  dow_2  dow_3  \\\n",
       "UNIQUE_CARRIER     ...                                                     \n",
       "AA                 ...            43173       43173  43173  43173  43173   \n",
       "AS                 ...            13198       13198  13198  13198  13198   \n",
       "B6                 ...            20531       20531  20531  20531  20531   \n",
       "DL                 ...            63752       63752  63752  63752  63752   \n",
       "EV                 ...            48267       48267  48267  48267  48267   \n",
       "F9                 ...             6745        6745   6745   6745   6745   \n",
       "HA                 ...             6418        6418   6418   6418   6418   \n",
       "MQ                 ...            27670       27670  27670  27670  27670   \n",
       "NK                 ...             8647        8647   8647   8647   8647   \n",
       "OO                 ...            46946       46946  46946  46946  46946   \n",
       "UA                 ...            37454       37454  37454  37454  37454   \n",
       "US                 ...            32552       32552  32552  32552  32552   \n",
       "VX                 ...             4651        4651   4651   4651   4651   \n",
       "WN                 ...            98307       98307  98307  98307  98307   \n",
       "\n",
       "                dow_4  dow_5  dow_6  dow_7  probability  \n",
       "UNIQUE_CARRIER                                           \n",
       "AA              43173  43173  43173  43173        43173  \n",
       "AS              13198  13198  13198  13198        13198  \n",
       "B6              20531  20531  20531  20531        20531  \n",
       "DL              63752  63752  63752  63752        63752  \n",
       "EV              48267  48267  48267  48267        48267  \n",
       "F9               6745   6745   6745   6745         6745  \n",
       "HA               6418   6418   6418   6418         6418  \n",
       "MQ              27670  27670  27670  27670        27670  \n",
       "NK               8647   8647   8647   8647         8647  \n",
       "OO              46946  46946  46946  46946        46946  \n",
       "UA              37454  37454  37454  37454        37454  \n",
       "US              32552  32552  32552  32552        32552  \n",
       "VX               4651   4651   4651   4651         4651  \n",
       "WN              98307  98307  98307  98307        98307  \n",
       "\n",
       "[14 rows x 37 columns]"
      ]
     },
     "execution_count": 25,
     "metadata": {},
     "output_type": "execute_result"
    }
   ],
   "source": [
    "df.groupby('UNIQUE_CARRIER').count()"
   ]
  },
  {
   "cell_type": "code",
   "execution_count": 17,
   "metadata": {
    "collapsed": false
   },
   "outputs": [],
   "source": [
    "# create df such that variables are not null for DEP_DEL15\n",
    "df = df[df.DEP_DEL15.notnull()]\n",
    "# create a dummy variable \n",
    "# merge specify the left and right table\n",
    "df = df.join(pd.get_dummies(df['CARRIER'], prefix='carrier'))\n",
    "df = df.join(pd.get_dummies(df['DAY_OF_WEEK'], prefix='dow'))\n",
    "# from sklearn\n",
    "model = lm.LogisticRegression()\n",
    "features = [i for i in df.columns if 'dow_' in i]"
   ]
  },
  {
   "cell_type": "code",
   "execution_count": 18,
   "metadata": {
    "collapsed": false
   },
   "outputs": [
    {
     "name": "stdout",
     "output_type": "stream",
     "text": [
      "['dow_1', 'dow_2', 'dow_3', 'dow_4', 'dow_5', 'dow_6', 'dow_7']\n"
     ]
    },
    {
     "data": {
      "text/html": [
       "<div>\n",
       "<table border=\"1\" class=\"dataframe\">\n",
       "  <thead>\n",
       "    <tr style=\"text-align: right;\">\n",
       "      <th></th>\n",
       "      <th>dow_1</th>\n",
       "      <th>dow_2</th>\n",
       "      <th>dow_3</th>\n",
       "      <th>dow_4</th>\n",
       "      <th>dow_5</th>\n",
       "      <th>dow_6</th>\n",
       "      <th>dow_7</th>\n",
       "    </tr>\n",
       "  </thead>\n",
       "  <tbody>\n",
       "    <tr>\n",
       "      <th>0</th>\n",
       "      <td>0</td>\n",
       "      <td>0</td>\n",
       "      <td>0</td>\n",
       "      <td>1</td>\n",
       "      <td>0</td>\n",
       "      <td>0</td>\n",
       "      <td>0</td>\n",
       "    </tr>\n",
       "    <tr>\n",
       "      <th>1</th>\n",
       "      <td>0</td>\n",
       "      <td>0</td>\n",
       "      <td>0</td>\n",
       "      <td>1</td>\n",
       "      <td>0</td>\n",
       "      <td>0</td>\n",
       "      <td>0</td>\n",
       "    </tr>\n",
       "    <tr>\n",
       "      <th>2</th>\n",
       "      <td>0</td>\n",
       "      <td>0</td>\n",
       "      <td>0</td>\n",
       "      <td>1</td>\n",
       "      <td>0</td>\n",
       "      <td>0</td>\n",
       "      <td>0</td>\n",
       "    </tr>\n",
       "    <tr>\n",
       "      <th>3</th>\n",
       "      <td>0</td>\n",
       "      <td>0</td>\n",
       "      <td>0</td>\n",
       "      <td>1</td>\n",
       "      <td>0</td>\n",
       "      <td>0</td>\n",
       "      <td>0</td>\n",
       "    </tr>\n",
       "    <tr>\n",
       "      <th>4</th>\n",
       "      <td>0</td>\n",
       "      <td>0</td>\n",
       "      <td>0</td>\n",
       "      <td>1</td>\n",
       "      <td>0</td>\n",
       "      <td>0</td>\n",
       "      <td>0</td>\n",
       "    </tr>\n",
       "  </tbody>\n",
       "</table>\n",
       "</div>"
      ],
      "text/plain": [
       "   dow_1  dow_2  dow_3  dow_4  dow_5  dow_6  dow_7\n",
       "0      0      0      0      1      0      0      0\n",
       "1      0      0      0      1      0      0      0\n",
       "2      0      0      0      1      0      0      0\n",
       "3      0      0      0      1      0      0      0\n",
       "4      0      0      0      1      0      0      0"
      ]
     },
     "execution_count": 18,
     "metadata": {},
     "output_type": "execute_result"
    }
   ],
   "source": [
    "print (features)\n",
    "df[features].head()"
   ]
  },
  {
   "cell_type": "code",
   "execution_count": 10,
   "metadata": {
    "collapsed": false
   },
   "outputs": [
    {
     "data": {
      "text/plain": [
       "(458311, 37)"
      ]
     },
     "execution_count": 10,
     "metadata": {},
     "output_type": "execute_result"
    }
   ],
   "source": [
    "df.shape"
   ]
  },
  {
   "cell_type": "code",
   "execution_count": 19,
   "metadata": {
    "collapsed": false
   },
   "outputs": [],
   "source": [
    "features += ['CRS_DEP_TIME']\n",
    "model.fit(df[features[1:]], df['DEP_DEL15'])\n",
    "#target/outcome = depart or delayed by 15 minutes\n",
    "\n",
    "df['probability'] = model.predict_proba(df[features[1:]]).T[1]\n",
    "#returns probability of failure and probability of success. then to append you need to transpose the array\n",
    "# taking the success\n",
    "# predict - you can take in the probabilities and if you have additional variables of interest you can predict\n",
    "# your outcome"
   ]
  },
  {
   "cell_type": "code",
   "execution_count": 20,
   "metadata": {
    "collapsed": false
   },
   "outputs": [
    {
     "data": {
      "text/html": [
       "<div>\n",
       "<table border=\"1\" class=\"dataframe\">\n",
       "  <thead>\n",
       "    <tr style=\"text-align: right;\">\n",
       "      <th></th>\n",
       "      <th>dow_2</th>\n",
       "      <th>dow_3</th>\n",
       "      <th>dow_4</th>\n",
       "      <th>dow_5</th>\n",
       "      <th>dow_6</th>\n",
       "      <th>dow_7</th>\n",
       "      <th>CRS_DEP_TIME</th>\n",
       "    </tr>\n",
       "  </thead>\n",
       "  <tbody>\n",
       "    <tr>\n",
       "      <th>0</th>\n",
       "      <td>0</td>\n",
       "      <td>0</td>\n",
       "      <td>1</td>\n",
       "      <td>0</td>\n",
       "      <td>0</td>\n",
       "      <td>0</td>\n",
       "      <td>900</td>\n",
       "    </tr>\n",
       "    <tr>\n",
       "      <th>1</th>\n",
       "      <td>0</td>\n",
       "      <td>0</td>\n",
       "      <td>1</td>\n",
       "      <td>0</td>\n",
       "      <td>0</td>\n",
       "      <td>0</td>\n",
       "      <td>900</td>\n",
       "    </tr>\n",
       "    <tr>\n",
       "      <th>2</th>\n",
       "      <td>0</td>\n",
       "      <td>0</td>\n",
       "      <td>1</td>\n",
       "      <td>0</td>\n",
       "      <td>0</td>\n",
       "      <td>0</td>\n",
       "      <td>1230</td>\n",
       "    </tr>\n",
       "    <tr>\n",
       "      <th>3</th>\n",
       "      <td>0</td>\n",
       "      <td>0</td>\n",
       "      <td>1</td>\n",
       "      <td>0</td>\n",
       "      <td>0</td>\n",
       "      <td>0</td>\n",
       "      <td>1220</td>\n",
       "    </tr>\n",
       "    <tr>\n",
       "      <th>4</th>\n",
       "      <td>0</td>\n",
       "      <td>0</td>\n",
       "      <td>1</td>\n",
       "      <td>0</td>\n",
       "      <td>0</td>\n",
       "      <td>0</td>\n",
       "      <td>1305</td>\n",
       "    </tr>\n",
       "  </tbody>\n",
       "</table>\n",
       "</div>"
      ],
      "text/plain": [
       "   dow_2  dow_3  dow_4  dow_5  dow_6  dow_7  CRS_DEP_TIME\n",
       "0      0      0      1      0      0      0           900\n",
       "1      0      0      1      0      0      0           900\n",
       "2      0      0      1      0      0      0          1230\n",
       "3      0      0      1      0      0      0          1220\n",
       "4      0      0      1      0      0      0          1305"
      ]
     },
     "execution_count": 20,
     "metadata": {},
     "output_type": "execute_result"
    }
   ],
   "source": [
    "df[features[1:]].head()"
   ]
  },
  {
   "cell_type": "code",
   "execution_count": null,
   "metadata": {
    "collapsed": true
   },
   "outputs": [],
   "source": [
    "model.predict_proba(df[features[1:]]]"
   ]
  },
  {
   "cell_type": "code",
   "execution_count": 21,
   "metadata": {
    "collapsed": false
   },
   "outputs": [
    {
     "data": {
      "text/plain": [
       "[<matplotlib.text.Text at 0x1160899b0>]"
      ]
     },
     "execution_count": 21,
     "metadata": {},
     "output_type": "execute_result"
    },
    {
     "data": {
      "image/png": "[encoded data removed]",
      "text/plain": [
       "<matplotlib.figure.Figure at 0x1163730f0>"
      ]
     },
     "metadata": {},
     "output_type": "display_data"
    }
   ],
   "source": [
    "# enumerate assigns for loop\n",
    "ax = plt.subplot(111)\n",
    "colors = ['blue', 'green', 'red', 'purple', 'orange', 'brown']\n",
    "for e, c in enumerate(colors):\n",
    "    df[df[features[e]] == 1].plot(x='CRS_DEP_TIME', y='probability', kind='scatter', color = c, ax=ax)\n",
    "\n",
    "ax.set(title='Probability of Delay\\n Based on Day of Week and Time of Day')\n",
    "# Blue is Monday "
   ]
  },
  {
   "cell_type": "markdown",
   "metadata": {},
   "source": [
    "### Other Answers: visualizing Airline or the inverse"
   ]
  },
  {
   "cell_type": "code",
   "execution_count": 30,
   "metadata": {
    "collapsed": false
   },
   "outputs": [
    {
     "data": {
      "text/plain": [
       "LogisticRegression(C=1.0, class_weight=None, dual=False, fit_intercept=True,\n",
       "          intercept_scaling=1, max_iter=100, multi_class='ovr', n_jobs=1,\n",
       "          penalty='l2', random_state=None, solver='liblinear', tol=0.0001,\n",
       "          verbose=0, warm_start=False)"
      ]
     },
     "execution_count": 30,
     "metadata": {},
     "output_type": "execute_result"
    }
   ],
   "source": [
    "#refit another model\n",
    "#predict probabilities\n",
    "features = [i for i in df.columns if 'carrier_' in i]\n",
    "features += ['CRS_DEP_TIME']\n",
    "model.fit(df[features[1:]], df['DEP_DEL15'])"
   ]
  },
  {
   "cell_type": "code",
   "execution_count": 31,
   "metadata": {
    "collapsed": false
   },
   "outputs": [],
   "source": [
    "df['prob_carrier'] = model.predict_proba(df[features[1:]]).T[0]"
   ]
  },
  {
   "cell_type": "code",
   "execution_count": 32,
   "metadata": {
    "collapsed": false
   },
   "outputs": [
    {
     "data": {
      "text/plain": [
       "[<matplotlib.text.Text at 0x11a6daf98>]"
      ]
     },
     "execution_count": 32,
     "metadata": {},
     "output_type": "execute_result"
    },
    {
     "data": {
      "image/png": "[encoded data removed]",
      "text/plain": [
       "<matplotlib.figure.Figure at 0x116411940>"
      ]
     },
     "metadata": {},
     "output_type": "display_data"
    }
   ],
   "source": [
    "ax = plt.subplot(111)\n",
    "colors = ['blue', 'green', 'red', 'purple', 'orange', 'brown', 'black', 'yellow', 'blue', 'green','red', 'purple', 'orange']\n",
    "for e, c in enumerate(colors):\n",
    "    df[df[features[e]] == 1].plot(x='CRS_DEP_TIME', y='prob_carrier', kind='scatter', color = c, ax=ax)\n",
    "\n",
    "ax.set(title='Probability of Delay\\n Based on the airline carrier')"
   ]
  },
  {
   "cell_type": "markdown",
   "metadata": {},
   "source": [
    "### Visualizing Performance Against Baseline"
   ]
  },
  {
   "cell_type": "markdown",
   "metadata": {},
   "source": [
    "#### Visualizing AUC and comparing Models"
   ]
  },
  {
   "cell_type": "code",
   "execution_count": 33,
   "metadata": {
    "collapsed": true
   },
   "outputs": [],
   "source": [
    "from sklearn import dummy, metrics"
   ]
  },
  {
   "cell_type": "code",
   "execution_count": 34,
   "metadata": {
    "collapsed": false
   },
   "outputs": [],
   "source": [
    "#dummy classifer to make a random model compared to our logistic model\n",
    "model0 = dummy.DummyClassifier()\n",
    "model0.fit(df[features[1:]], df['DEP_DEL15'])\n",
    "df['probability_0'] = model0.predict_proba(df[features[1:]]).T[1]\n",
    "\n",
    "model1 = lm.LogisticRegression()\n",
    "model.fit(df[features[1:]], df['DEP_DEL15'])\n",
    "df['probability_1'] = model.predict_proba(df[features[1:]]).T[1]\n"
   ]
  },
  {
   "cell_type": "code",
   "execution_count": 35,
   "metadata": {
    "collapsed": false
   },
   "outputs": [
    {
     "data": {
      "text/plain": [
       "(458311, 41)"
      ]
     },
     "execution_count": 35,
     "metadata": {},
     "output_type": "execute_result"
    }
   ],
   "source": [
    "df.shape"
   ]
  },
  {
   "cell_type": "code",
   "execution_count": 21,
   "metadata": {
    "collapsed": false
   },
   "outputs": [
    {
     "data": {
      "text/plain": [
       "[<matplotlib.text.Text at 0x10b8d5650>,\n",
       " <matplotlib.text.Text at 0x108ea2250>,\n",
       " (0, 1),\n",
       " (0, 1),\n",
       " <matplotlib.text.Text at 0x109140250>]"
      ]
     },
     "execution_count": 21,
     "metadata": {},
     "output_type": "execute_result"
    },
    {
     "data": {
      "image/png": "[encoded data removed]",
      "text/plain": [
       "<matplotlib.figure.Figure at 0x10a36c290>"
      ]
     },
     "metadata": {},
     "output_type": "display_data"
    }
   ],
   "source": [
    "ax = plt.subplot(111)\n",
    "vals = metrics.roc_curve(df.DEP_DEL15, df.probability_0)\n",
    "ax.plot(vals[0], vals[1])\n",
    "vals = metrics.roc_curve(df.DEP_DEL15, df.probability_1)\n",
    "ax.plot(vals[0], vals[1])\n",
    "\n",
    "ax.set(title='Area Under the Curve for prediction delayed=1', ylabel='', xlabel='', xlim=(0, 1), ylim=(0, 1))"
   ]
  },
  {
   "cell_type": "code",
   "execution_count": null,
   "metadata": {
    "collapsed": true
   },
   "outputs": [],
   "source": [
    "#accuracy is TN/TP divided by total\n",
    "# predicts classification\n",
    "df[\"prediction\"] = model.predict(df[features[1:]])\n",
    "metrics.accuracy_score(df.DEP_DEL15)\n",
    "# precision TP vs FB\n",
    "print (metrics.classification_report(df.DEP_DEL15, df.prediction))\n",
    "# precision is not great, because we're not predicting 1 all they\n",
    "# probabilities will help you understand the threshold, and the confucion matrix gets classification\n",
    "# and the classification confirms he threshold\n"
   ]
  },
  {
   "cell_type": "markdown",
   "metadata": {},
   "source": [
    "#### Visualizing Precision / Recall"
   ]
  },
  {
   "cell_type": "code",
   "execution_count": null,
   "metadata": {
    "collapsed": true
   },
   "outputs": [],
   "source": []
  }
 ],
 "metadata": {
  "anaconda-cloud": {},
  "kernelspec": {
   "display_name": "Python [conda root]",
   "language": "python",
   "name": "conda-root-py"
  },
  "language_info": {
   "codemirror_mode": {
    "name": "ipython",
    "version": 3
   },
   "file_extension": ".py",
   "mimetype": "text/x-python",
   "name": "python",
   "nbconvert_exporter": "python",
   "pygments_lexer": "ipython3",
   "version": "3.5.2"
  }
 },
 "nbformat": 4,
 "nbformat_minor": 0
}
